{
 "cells": [
  {
   "cell_type": "markdown",
   "id": "8c3a51c5",
   "metadata": {},
   "source": [
    "# Interactive Data"
   ]
  },
  {
   "cell_type": "markdown",
   "id": "5e9af7ef",
   "metadata": {},
   "source": [
    "**Assignment - 1**   *(Jayanth Kuchuru)*"
   ]
  },
  {
   "cell_type": "markdown",
   "id": "5bffd58d",
   "metadata": {},
   "source": [
    "---"
   ]
  },
  {
   "attachments": {
    "Interactive%20data.jpeg": {
     "image/jpeg": "[encoded data removed]"
    }
   },
   "cell_type": "markdown",
   "id": "9e110384",
   "metadata": {},
   "source": [
    "![Interactive%20data.jpeg](attachment:Interactive%20data.jpeg)"
   ]
  },
  {
   "cell_type": "markdown",
   "id": "d9d1eeb9",
   "metadata": {},
   "source": [
    "## What i intend to learn from this class:"
   ]
  },
  {
   "cell_type": "markdown",
   "id": "3ef75a04",
   "metadata": {},
   "source": [
    "*By the end of this class, I hope to:*"
   ]
  },
  {
   "cell_type": "markdown",
   "id": "6011c6d4",
   "metadata": {},
   "source": [
    "1. Develop my python skills to solve real world problems.\n",
    "2. Improve my analytical skills using python. \n",
    "3. Understand how data anaysis is performed using Python. "
   ]
  },
  {
   "cell_type": "markdown",
   "id": "7ef40b26",
   "metadata": {},
   "source": [
    "---"
   ]
  },
  {
   "cell_type": "markdown",
   "id": "c0a50828",
   "metadata": {},
   "source": [
    "### Variable Assignment"
   ]
  },
  {
   "cell_type": "code",
   "execution_count": 15,
   "id": "62588e20",
   "metadata": {},
   "outputs": [
    {
     "name": "stdout",
     "output_type": "stream",
     "text": [
      "1000\n",
      "Robots can over adapt AI!\n",
      "[4, 5, 10]\n"
     ]
    }
   ],
   "source": [
    "# Variable Assignment\n",
    "x = 1000\n",
    "y = \"Robots can over adapt AI!\"\n",
    "z = [4, 5,10]\n",
    "\n",
    "print(x)\n",
    "print(y)\n",
    "print(z)\n"
   ]
  },
  {
   "cell_type": "markdown",
   "id": "8125c43f",
   "metadata": {},
   "source": [
    "### Loop Statement"
   ]
  },
  {
   "cell_type": "code",
   "execution_count": 16,
   "id": "0e49b9da",
   "metadata": {},
   "outputs": [
    {
     "name": "stdout",
     "output_type": "stream",
     "text": [
      "100\n",
      "64\n",
      "4\n",
      "9\n",
      "25\n"
     ]
    }
   ],
   "source": [
    "# For Loop\n",
    "numbers = [10, 8, 2, 3, 5]\n",
    "\n",
    "for num in numbers:\n",
    "    square = num ** 2\n",
    "    print(square)\n"
   ]
  },
  {
   "cell_type": "markdown",
   "id": "b6404efe",
   "metadata": {},
   "source": [
    "### Example on print and return statements "
   ]
  },
  {
   "cell_type": "code",
   "execution_count": 17,
   "id": "57f048c6",
   "metadata": {},
   "outputs": [
    {
     "name": "stdout",
     "output_type": "stream",
     "text": [
      "12\n"
     ]
    }
   ],
   "source": [
    "#  Function with Print Statement and Return Statement\n",
    "def multiply(a, b):\n",
    "    result = a * b\n",
    "    return result\n",
    "\n",
    "# Calling the function\n",
    "p = multiply(3, 4)\n",
    "print(p)\n"
   ]
  }
 ],
 "metadata": {
  "kernelspec": {
   "display_name": "Python 3 (ipykernel)",
   "language": "python",
   "name": "python3"
  },
  "language_info": {
   "codemirror_mode": {
    "name": "ipython",
    "version": 3
   },
   "file_extension": ".py",
   "mimetype": "text/x-python",
   "name": "python",
   "nbconvert_exporter": "python",
   "pygments_lexer": "ipython3",
   "version": "3.11.4"
  }
 },
 "nbformat": 4,
 "nbformat_minor": 5
}
